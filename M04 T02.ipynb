{
 "cells": [
  {
   "cell_type": "code",
   "execution_count": 12,
   "id": "bd3dcf98",
   "metadata": {},
   "outputs": [],
   "source": [
    "import pandas as pd\n",
    "import seaborn as sns\n",
    "import matplotlib.pyplot as plt\n",
    "import numpy as np\n",
    "import re"
   ]
  },
  {
   "cell_type": "markdown",
   "id": "2d633427",
   "metadata": {},
   "source": [
    "# Ejercicio 2\n",
    "Realiza las tareas de preprocesado y adecuación del Dataset que disponemos en el repositorio de GitHub  PRE-PROCESSING-FECHA con el objetivo de prepararlo y trabajarlo como dataframe para extraer información."
   ]
  },
  {
   "cell_type": "code",
   "execution_count": 13,
   "id": "9233a0e4",
   "metadata": {},
   "outputs": [],
   "source": [
    "movie = 'movies.dat'"
   ]
  },
  {
   "cell_type": "code",
   "execution_count": 14,
   "id": "318f1a38",
   "metadata": {},
   "outputs": [],
   "source": [
    "with open(movie, 'r', encoding='latin-1') as archivo:\n",
    "    lineas = archivo.readlines()\n",
    "datos = [linea.strip().split('::') for linea in lineas]\n",
    "columnas = ['ID', 'Titulo', 'Genero']\n",
    "df = pd.DataFrame(datos, columns=columnas)"
   ]
  },
  {
   "cell_type": "code",
   "execution_count": 15,
   "id": "ac6fe3ec",
   "metadata": {},
   "outputs": [
    {
     "data": {
      "text/html": [
       "<div>\n",
       "<style scoped>\n",
       "    .dataframe tbody tr th:only-of-type {\n",
       "        vertical-align: middle;\n",
       "    }\n",
       "\n",
       "    .dataframe tbody tr th {\n",
       "        vertical-align: top;\n",
       "    }\n",
       "\n",
       "    .dataframe thead th {\n",
       "        text-align: right;\n",
       "    }\n",
       "</style>\n",
       "<table border=\"1\" class=\"dataframe\">\n",
       "  <thead>\n",
       "    <tr style=\"text-align: right;\">\n",
       "      <th></th>\n",
       "      <th>ID</th>\n",
       "      <th>Titulo</th>\n",
       "      <th>Genero</th>\n",
       "    </tr>\n",
       "  </thead>\n",
       "  <tbody>\n",
       "    <tr>\n",
       "      <th>0</th>\n",
       "      <td>1</td>\n",
       "      <td>Toy Story (1995)</td>\n",
       "      <td>Animation|Children's|Comedy</td>\n",
       "    </tr>\n",
       "    <tr>\n",
       "      <th>1</th>\n",
       "      <td>2</td>\n",
       "      <td>Jumanji (1995)</td>\n",
       "      <td>Adventure|Children's|Fantasy</td>\n",
       "    </tr>\n",
       "    <tr>\n",
       "      <th>2</th>\n",
       "      <td>3</td>\n",
       "      <td>Grumpier Old Men (1995)</td>\n",
       "      <td>Comedy|Romance</td>\n",
       "    </tr>\n",
       "    <tr>\n",
       "      <th>3</th>\n",
       "      <td>4</td>\n",
       "      <td>Waiting to Exhale (1995)</td>\n",
       "      <td>Comedy|Drama</td>\n",
       "    </tr>\n",
       "    <tr>\n",
       "      <th>4</th>\n",
       "      <td>5</td>\n",
       "      <td>Father of the Bride Part II (1995)</td>\n",
       "      <td>Comedy</td>\n",
       "    </tr>\n",
       "    <tr>\n",
       "      <th>...</th>\n",
       "      <td>...</td>\n",
       "      <td>...</td>\n",
       "      <td>...</td>\n",
       "    </tr>\n",
       "    <tr>\n",
       "      <th>3878</th>\n",
       "      <td>3948</td>\n",
       "      <td>Meet the Parents (2000)</td>\n",
       "      <td>Comedy</td>\n",
       "    </tr>\n",
       "    <tr>\n",
       "      <th>3879</th>\n",
       "      <td>3949</td>\n",
       "      <td>Requiem for a Dream (2000)</td>\n",
       "      <td>Drama</td>\n",
       "    </tr>\n",
       "    <tr>\n",
       "      <th>3880</th>\n",
       "      <td>3950</td>\n",
       "      <td>Tigerland (2000)</td>\n",
       "      <td>Drama</td>\n",
       "    </tr>\n",
       "    <tr>\n",
       "      <th>3881</th>\n",
       "      <td>3951</td>\n",
       "      <td>Two Family House (2000)</td>\n",
       "      <td>Drama</td>\n",
       "    </tr>\n",
       "    <tr>\n",
       "      <th>3882</th>\n",
       "      <td>3952</td>\n",
       "      <td>Contender, The (2000)</td>\n",
       "      <td>Drama|Thriller</td>\n",
       "    </tr>\n",
       "  </tbody>\n",
       "</table>\n",
       "<p>3883 rows × 3 columns</p>\n",
       "</div>"
      ],
      "text/plain": [
       "        ID                              Titulo                        Genero\n",
       "0        1                    Toy Story (1995)   Animation|Children's|Comedy\n",
       "1        2                      Jumanji (1995)  Adventure|Children's|Fantasy\n",
       "2        3             Grumpier Old Men (1995)                Comedy|Romance\n",
       "3        4            Waiting to Exhale (1995)                  Comedy|Drama\n",
       "4        5  Father of the Bride Part II (1995)                        Comedy\n",
       "...    ...                                 ...                           ...\n",
       "3878  3948             Meet the Parents (2000)                        Comedy\n",
       "3879  3949          Requiem for a Dream (2000)                         Drama\n",
       "3880  3950                    Tigerland (2000)                         Drama\n",
       "3881  3951             Two Family House (2000)                         Drama\n",
       "3882  3952               Contender, The (2000)                Drama|Thriller\n",
       "\n",
       "[3883 rows x 3 columns]"
      ]
     },
     "execution_count": 15,
     "metadata": {},
     "output_type": "execute_result"
    }
   ],
   "source": [
    "df"
   ]
  },
  {
   "cell_type": "markdown",
   "id": "30c43186",
   "metadata": {},
   "source": [
    "Primero declare 'movie.dat' como movie para que fuera más corto al momento de escribir codigo. Despues leemos el archivo, dividimos los datos y declaramos las columnas para finalmente convertirlo a un dataframe. "
   ]
  },
  {
   "cell_type": "code",
   "execution_count": 16,
   "id": "d82d9b99",
   "metadata": {},
   "outputs": [],
   "source": [
    "df[['Pelicula', 'Año']] = df['Titulo'].str.rsplit('(', n=1, expand=True)\n",
    "df['Año'] = df['Año'].str.rstrip(')')\n",
    "\n",
    "df['Genero'] = df['Genero'].apply(lambda x: re.search(r'\\b(\\w+)\\b', x).group(1) if re.search(r'\\b(\\w+)\\b', x) else None)"
   ]
  },
  {
   "cell_type": "markdown",
   "id": "c017c322",
   "metadata": {},
   "source": [
    "Lo que sigue es acomodar los datos de la forma que queremos, lo primero que hacemos es dividir 'Titulo' en 'Pelicula' y 'Año' aprovechado sus parentesis para separarlos.\n",
    "\n",
    "Solo queremos un 'Genero' así que aprobechamos la función regex para separarlos y despues nos quedamos únicamente con el primero."
   ]
  },
  {
   "cell_type": "code",
   "execution_count": 17,
   "id": "8aab5601",
   "metadata": {
    "scrolled": false
   },
   "outputs": [
    {
     "data": {
      "text/html": [
       "<div>\n",
       "<style scoped>\n",
       "    .dataframe tbody tr th:only-of-type {\n",
       "        vertical-align: middle;\n",
       "    }\n",
       "\n",
       "    .dataframe tbody tr th {\n",
       "        vertical-align: top;\n",
       "    }\n",
       "\n",
       "    .dataframe thead th {\n",
       "        text-align: right;\n",
       "    }\n",
       "</style>\n",
       "<table border=\"1\" class=\"dataframe\">\n",
       "  <thead>\n",
       "    <tr style=\"text-align: right;\">\n",
       "      <th></th>\n",
       "      <th>ID</th>\n",
       "      <th>Titulo</th>\n",
       "      <th>Genero</th>\n",
       "      <th>Pelicula</th>\n",
       "      <th>Año</th>\n",
       "    </tr>\n",
       "  </thead>\n",
       "  <tbody>\n",
       "  </tbody>\n",
       "</table>\n",
       "</div>"
      ],
      "text/plain": [
       "Empty DataFrame\n",
       "Columns: [ID, Titulo, Genero, Pelicula, Año]\n",
       "Index: []"
      ]
     },
     "execution_count": 17,
     "metadata": {},
     "output_type": "execute_result"
    }
   ],
   "source": [
    "df[df['Pelicula'].isnull()]"
   ]
  },
  {
   "cell_type": "code",
   "execution_count": 18,
   "id": "2a18157d",
   "metadata": {},
   "outputs": [
    {
     "data": {
      "text/html": [
       "<div>\n",
       "<style scoped>\n",
       "    .dataframe tbody tr th:only-of-type {\n",
       "        vertical-align: middle;\n",
       "    }\n",
       "\n",
       "    .dataframe tbody tr th {\n",
       "        vertical-align: top;\n",
       "    }\n",
       "\n",
       "    .dataframe thead th {\n",
       "        text-align: right;\n",
       "    }\n",
       "</style>\n",
       "<table border=\"1\" class=\"dataframe\">\n",
       "  <thead>\n",
       "    <tr style=\"text-align: right;\">\n",
       "      <th></th>\n",
       "      <th>ID</th>\n",
       "      <th>Titulo</th>\n",
       "      <th>Genero</th>\n",
       "      <th>Pelicula</th>\n",
       "      <th>Año</th>\n",
       "    </tr>\n",
       "  </thead>\n",
       "  <tbody>\n",
       "  </tbody>\n",
       "</table>\n",
       "</div>"
      ],
      "text/plain": [
       "Empty DataFrame\n",
       "Columns: [ID, Titulo, Genero, Pelicula, Año]\n",
       "Index: []"
      ]
     },
     "execution_count": 18,
     "metadata": {},
     "output_type": "execute_result"
    }
   ],
   "source": [
    "df[df['Año'].isnull()]"
   ]
  },
  {
   "cell_type": "code",
   "execution_count": 19,
   "id": "9e6c876d",
   "metadata": {
    "scrolled": true
   },
   "outputs": [
    {
     "data": {
      "text/html": [
       "<div>\n",
       "<style scoped>\n",
       "    .dataframe tbody tr th:only-of-type {\n",
       "        vertical-align: middle;\n",
       "    }\n",
       "\n",
       "    .dataframe tbody tr th {\n",
       "        vertical-align: top;\n",
       "    }\n",
       "\n",
       "    .dataframe thead th {\n",
       "        text-align: right;\n",
       "    }\n",
       "</style>\n",
       "<table border=\"1\" class=\"dataframe\">\n",
       "  <thead>\n",
       "    <tr style=\"text-align: right;\">\n",
       "      <th></th>\n",
       "      <th>ID</th>\n",
       "      <th>Titulo</th>\n",
       "      <th>Genero</th>\n",
       "      <th>Pelicula</th>\n",
       "      <th>Año</th>\n",
       "    </tr>\n",
       "  </thead>\n",
       "  <tbody>\n",
       "  </tbody>\n",
       "</table>\n",
       "</div>"
      ],
      "text/plain": [
       "Empty DataFrame\n",
       "Columns: [ID, Titulo, Genero, Pelicula, Año]\n",
       "Index: []"
      ]
     },
     "execution_count": 19,
     "metadata": {},
     "output_type": "execute_result"
    }
   ],
   "source": [
    "df[df['Genero'].isnull()]"
   ]
  },
  {
   "cell_type": "markdown",
   "id": "1aac7a28",
   "metadata": {},
   "source": [
    "Antes de seguir verifico que no hayan nulls en las columnas que planeo conservar, y como pueden ver no."
   ]
  },
  {
   "cell_type": "code",
   "execution_count": 20,
   "id": "271ee3b7",
   "metadata": {},
   "outputs": [
    {
     "data": {
      "text/html": [
       "<div>\n",
       "<style scoped>\n",
       "    .dataframe tbody tr th:only-of-type {\n",
       "        vertical-align: middle;\n",
       "    }\n",
       "\n",
       "    .dataframe tbody tr th {\n",
       "        vertical-align: top;\n",
       "    }\n",
       "\n",
       "    .dataframe thead th {\n",
       "        text-align: right;\n",
       "    }\n",
       "</style>\n",
       "<table border=\"1\" class=\"dataframe\">\n",
       "  <thead>\n",
       "    <tr style=\"text-align: right;\">\n",
       "      <th></th>\n",
       "      <th>ID</th>\n",
       "      <th>Titulo</th>\n",
       "      <th>Genero</th>\n",
       "      <th>Pelicula</th>\n",
       "      <th>Año</th>\n",
       "    </tr>\n",
       "  </thead>\n",
       "  <tbody>\n",
       "    <tr>\n",
       "      <th>0</th>\n",
       "      <td>1</td>\n",
       "      <td>Toy Story (1995)</td>\n",
       "      <td>Animation</td>\n",
       "      <td>Toy Story</td>\n",
       "      <td>1995</td>\n",
       "    </tr>\n",
       "    <tr>\n",
       "      <th>1</th>\n",
       "      <td>2</td>\n",
       "      <td>Jumanji (1995)</td>\n",
       "      <td>Adventure</td>\n",
       "      <td>Jumanji</td>\n",
       "      <td>1995</td>\n",
       "    </tr>\n",
       "    <tr>\n",
       "      <th>2</th>\n",
       "      <td>3</td>\n",
       "      <td>Grumpier Old Men (1995)</td>\n",
       "      <td>Comedy</td>\n",
       "      <td>Grumpier Old Men</td>\n",
       "      <td>1995</td>\n",
       "    </tr>\n",
       "    <tr>\n",
       "      <th>3</th>\n",
       "      <td>4</td>\n",
       "      <td>Waiting to Exhale (1995)</td>\n",
       "      <td>Comedy</td>\n",
       "      <td>Waiting to Exhale</td>\n",
       "      <td>1995</td>\n",
       "    </tr>\n",
       "    <tr>\n",
       "      <th>4</th>\n",
       "      <td>5</td>\n",
       "      <td>Father of the Bride Part II (1995)</td>\n",
       "      <td>Comedy</td>\n",
       "      <td>Father of the Bride Part II</td>\n",
       "      <td>1995</td>\n",
       "    </tr>\n",
       "    <tr>\n",
       "      <th>...</th>\n",
       "      <td>...</td>\n",
       "      <td>...</td>\n",
       "      <td>...</td>\n",
       "      <td>...</td>\n",
       "      <td>...</td>\n",
       "    </tr>\n",
       "    <tr>\n",
       "      <th>3878</th>\n",
       "      <td>3948</td>\n",
       "      <td>Meet the Parents (2000)</td>\n",
       "      <td>Comedy</td>\n",
       "      <td>Meet the Parents</td>\n",
       "      <td>2000</td>\n",
       "    </tr>\n",
       "    <tr>\n",
       "      <th>3879</th>\n",
       "      <td>3949</td>\n",
       "      <td>Requiem for a Dream (2000)</td>\n",
       "      <td>Drama</td>\n",
       "      <td>Requiem for a Dream</td>\n",
       "      <td>2000</td>\n",
       "    </tr>\n",
       "    <tr>\n",
       "      <th>3880</th>\n",
       "      <td>3950</td>\n",
       "      <td>Tigerland (2000)</td>\n",
       "      <td>Drama</td>\n",
       "      <td>Tigerland</td>\n",
       "      <td>2000</td>\n",
       "    </tr>\n",
       "    <tr>\n",
       "      <th>3881</th>\n",
       "      <td>3951</td>\n",
       "      <td>Two Family House (2000)</td>\n",
       "      <td>Drama</td>\n",
       "      <td>Two Family House</td>\n",
       "      <td>2000</td>\n",
       "    </tr>\n",
       "    <tr>\n",
       "      <th>3882</th>\n",
       "      <td>3952</td>\n",
       "      <td>Contender, The (2000)</td>\n",
       "      <td>Drama</td>\n",
       "      <td>Contender, The</td>\n",
       "      <td>2000</td>\n",
       "    </tr>\n",
       "  </tbody>\n",
       "</table>\n",
       "<p>3883 rows × 5 columns</p>\n",
       "</div>"
      ],
      "text/plain": [
       "        ID                              Titulo     Genero  \\\n",
       "0        1                    Toy Story (1995)  Animation   \n",
       "1        2                      Jumanji (1995)  Adventure   \n",
       "2        3             Grumpier Old Men (1995)     Comedy   \n",
       "3        4            Waiting to Exhale (1995)     Comedy   \n",
       "4        5  Father of the Bride Part II (1995)     Comedy   \n",
       "...    ...                                 ...        ...   \n",
       "3878  3948             Meet the Parents (2000)     Comedy   \n",
       "3879  3949          Requiem for a Dream (2000)      Drama   \n",
       "3880  3950                    Tigerland (2000)      Drama   \n",
       "3881  3951             Two Family House (2000)      Drama   \n",
       "3882  3952               Contender, The (2000)      Drama   \n",
       "\n",
       "                          Pelicula   Año  \n",
       "0                       Toy Story   1995  \n",
       "1                         Jumanji   1995  \n",
       "2                Grumpier Old Men   1995  \n",
       "3               Waiting to Exhale   1995  \n",
       "4     Father of the Bride Part II   1995  \n",
       "...                            ...   ...  \n",
       "3878             Meet the Parents   2000  \n",
       "3879          Requiem for a Dream   2000  \n",
       "3880                    Tigerland   2000  \n",
       "3881             Two Family House   2000  \n",
       "3882               Contender, The   2000  \n",
       "\n",
       "[3883 rows x 5 columns]"
      ]
     },
     "execution_count": 20,
     "metadata": {},
     "output_type": "execute_result"
    }
   ],
   "source": [
    "df"
   ]
  },
  {
   "cell_type": "code",
   "execution_count": 24,
   "id": "fff089c7",
   "metadata": {},
   "outputs": [],
   "source": [
    "df = df.drop('Titulo', axis=1)\n",
    "df = df.drop('ID', axis=1)"
   ]
  },
  {
   "cell_type": "markdown",
   "id": "0678f5c6",
   "metadata": {},
   "source": [
    "Por último borramos tanto 'Titulo' como 'ID' porque esos datos no son relevantes."
   ]
  },
  {
   "cell_type": "code",
   "execution_count": 25,
   "id": "4527ccc9",
   "metadata": {},
   "outputs": [
    {
     "data": {
      "text/html": [
       "<div>\n",
       "<style scoped>\n",
       "    .dataframe tbody tr th:only-of-type {\n",
       "        vertical-align: middle;\n",
       "    }\n",
       "\n",
       "    .dataframe tbody tr th {\n",
       "        vertical-align: top;\n",
       "    }\n",
       "\n",
       "    .dataframe thead th {\n",
       "        text-align: right;\n",
       "    }\n",
       "</style>\n",
       "<table border=\"1\" class=\"dataframe\">\n",
       "  <thead>\n",
       "    <tr style=\"text-align: right;\">\n",
       "      <th></th>\n",
       "      <th>Genero</th>\n",
       "      <th>Pelicula</th>\n",
       "      <th>Año</th>\n",
       "    </tr>\n",
       "  </thead>\n",
       "  <tbody>\n",
       "    <tr>\n",
       "      <th>0</th>\n",
       "      <td>Animation</td>\n",
       "      <td>Toy Story</td>\n",
       "      <td>1995</td>\n",
       "    </tr>\n",
       "    <tr>\n",
       "      <th>1</th>\n",
       "      <td>Adventure</td>\n",
       "      <td>Jumanji</td>\n",
       "      <td>1995</td>\n",
       "    </tr>\n",
       "    <tr>\n",
       "      <th>2</th>\n",
       "      <td>Comedy</td>\n",
       "      <td>Grumpier Old Men</td>\n",
       "      <td>1995</td>\n",
       "    </tr>\n",
       "    <tr>\n",
       "      <th>3</th>\n",
       "      <td>Comedy</td>\n",
       "      <td>Waiting to Exhale</td>\n",
       "      <td>1995</td>\n",
       "    </tr>\n",
       "    <tr>\n",
       "      <th>4</th>\n",
       "      <td>Comedy</td>\n",
       "      <td>Father of the Bride Part II</td>\n",
       "      <td>1995</td>\n",
       "    </tr>\n",
       "    <tr>\n",
       "      <th>...</th>\n",
       "      <td>...</td>\n",
       "      <td>...</td>\n",
       "      <td>...</td>\n",
       "    </tr>\n",
       "    <tr>\n",
       "      <th>3878</th>\n",
       "      <td>Comedy</td>\n",
       "      <td>Meet the Parents</td>\n",
       "      <td>2000</td>\n",
       "    </tr>\n",
       "    <tr>\n",
       "      <th>3879</th>\n",
       "      <td>Drama</td>\n",
       "      <td>Requiem for a Dream</td>\n",
       "      <td>2000</td>\n",
       "    </tr>\n",
       "    <tr>\n",
       "      <th>3880</th>\n",
       "      <td>Drama</td>\n",
       "      <td>Tigerland</td>\n",
       "      <td>2000</td>\n",
       "    </tr>\n",
       "    <tr>\n",
       "      <th>3881</th>\n",
       "      <td>Drama</td>\n",
       "      <td>Two Family House</td>\n",
       "      <td>2000</td>\n",
       "    </tr>\n",
       "    <tr>\n",
       "      <th>3882</th>\n",
       "      <td>Drama</td>\n",
       "      <td>Contender, The</td>\n",
       "      <td>2000</td>\n",
       "    </tr>\n",
       "  </tbody>\n",
       "</table>\n",
       "<p>3883 rows × 3 columns</p>\n",
       "</div>"
      ],
      "text/plain": [
       "         Genero                      Pelicula   Año\n",
       "0     Animation                    Toy Story   1995\n",
       "1     Adventure                      Jumanji   1995\n",
       "2        Comedy             Grumpier Old Men   1995\n",
       "3        Comedy            Waiting to Exhale   1995\n",
       "4        Comedy  Father of the Bride Part II   1995\n",
       "...         ...                           ...   ...\n",
       "3878     Comedy             Meet the Parents   2000\n",
       "3879      Drama          Requiem for a Dream   2000\n",
       "3880      Drama                    Tigerland   2000\n",
       "3881      Drama             Two Family House   2000\n",
       "3882      Drama               Contender, The   2000\n",
       "\n",
       "[3883 rows x 3 columns]"
      ]
     },
     "execution_count": 25,
     "metadata": {},
     "output_type": "execute_result"
    }
   ],
   "source": [
    "df"
   ]
  },
  {
   "cell_type": "code",
   "execution_count": 26,
   "id": "016f1b2d",
   "metadata": {},
   "outputs": [],
   "source": [
    "df.insert(2, 'Genero', df.pop('Genero'))"
   ]
  },
  {
   "cell_type": "code",
   "execution_count": 27,
   "id": "d5bbf1a6",
   "metadata": {},
   "outputs": [],
   "source": [
    "df['Año'] = pd.to_numeric(df['Año'], errors='coerce')"
   ]
  },
  {
   "cell_type": "markdown",
   "id": "26b86f09",
   "metadata": {},
   "source": [
    "Como ven en la tabla de arriba 'Genero' es la primera columna y eso a mí no me gusta así que agrego y elimino la columna para basicamente moverla al final.\n",
    "\n",
    "Tambien decidi convertir Año a numerico pensando en la creación de las gráficas, aunque al final fue innecesario."
   ]
  },
  {
   "cell_type": "code",
   "execution_count": 28,
   "id": "e3137af5",
   "metadata": {},
   "outputs": [
    {
     "data": {
      "text/html": [
       "<div>\n",
       "<style scoped>\n",
       "    .dataframe tbody tr th:only-of-type {\n",
       "        vertical-align: middle;\n",
       "    }\n",
       "\n",
       "    .dataframe tbody tr th {\n",
       "        vertical-align: top;\n",
       "    }\n",
       "\n",
       "    .dataframe thead th {\n",
       "        text-align: right;\n",
       "    }\n",
       "</style>\n",
       "<table border=\"1\" class=\"dataframe\">\n",
       "  <thead>\n",
       "    <tr style=\"text-align: right;\">\n",
       "      <th></th>\n",
       "      <th>Pelicula</th>\n",
       "      <th>Año</th>\n",
       "      <th>Genero</th>\n",
       "    </tr>\n",
       "  </thead>\n",
       "  <tbody>\n",
       "    <tr>\n",
       "      <th>0</th>\n",
       "      <td>Toy Story</td>\n",
       "      <td>1995</td>\n",
       "      <td>Animation</td>\n",
       "    </tr>\n",
       "    <tr>\n",
       "      <th>1</th>\n",
       "      <td>Jumanji</td>\n",
       "      <td>1995</td>\n",
       "      <td>Adventure</td>\n",
       "    </tr>\n",
       "    <tr>\n",
       "      <th>2</th>\n",
       "      <td>Grumpier Old Men</td>\n",
       "      <td>1995</td>\n",
       "      <td>Comedy</td>\n",
       "    </tr>\n",
       "    <tr>\n",
       "      <th>3</th>\n",
       "      <td>Waiting to Exhale</td>\n",
       "      <td>1995</td>\n",
       "      <td>Comedy</td>\n",
       "    </tr>\n",
       "    <tr>\n",
       "      <th>4</th>\n",
       "      <td>Father of the Bride Part II</td>\n",
       "      <td>1995</td>\n",
       "      <td>Comedy</td>\n",
       "    </tr>\n",
       "    <tr>\n",
       "      <th>...</th>\n",
       "      <td>...</td>\n",
       "      <td>...</td>\n",
       "      <td>...</td>\n",
       "    </tr>\n",
       "    <tr>\n",
       "      <th>3878</th>\n",
       "      <td>Meet the Parents</td>\n",
       "      <td>2000</td>\n",
       "      <td>Comedy</td>\n",
       "    </tr>\n",
       "    <tr>\n",
       "      <th>3879</th>\n",
       "      <td>Requiem for a Dream</td>\n",
       "      <td>2000</td>\n",
       "      <td>Drama</td>\n",
       "    </tr>\n",
       "    <tr>\n",
       "      <th>3880</th>\n",
       "      <td>Tigerland</td>\n",
       "      <td>2000</td>\n",
       "      <td>Drama</td>\n",
       "    </tr>\n",
       "    <tr>\n",
       "      <th>3881</th>\n",
       "      <td>Two Family House</td>\n",
       "      <td>2000</td>\n",
       "      <td>Drama</td>\n",
       "    </tr>\n",
       "    <tr>\n",
       "      <th>3882</th>\n",
       "      <td>Contender, The</td>\n",
       "      <td>2000</td>\n",
       "      <td>Drama</td>\n",
       "    </tr>\n",
       "  </tbody>\n",
       "</table>\n",
       "<p>3883 rows × 3 columns</p>\n",
       "</div>"
      ],
      "text/plain": [
       "                          Pelicula   Año     Genero\n",
       "0                       Toy Story   1995  Animation\n",
       "1                         Jumanji   1995  Adventure\n",
       "2                Grumpier Old Men   1995     Comedy\n",
       "3               Waiting to Exhale   1995     Comedy\n",
       "4     Father of the Bride Part II   1995     Comedy\n",
       "...                            ...   ...        ...\n",
       "3878             Meet the Parents   2000     Comedy\n",
       "3879          Requiem for a Dream   2000      Drama\n",
       "3880                    Tigerland   2000      Drama\n",
       "3881             Two Family House   2000      Drama\n",
       "3882               Contender, The   2000      Drama\n",
       "\n",
       "[3883 rows x 3 columns]"
      ]
     },
     "execution_count": 28,
     "metadata": {},
     "output_type": "execute_result"
    }
   ],
   "source": [
    "df"
   ]
  },
  {
   "cell_type": "markdown",
   "id": "bca437a6",
   "metadata": {},
   "source": [
    "# Ejercicio 3\n",
    "Muestra tu creatividad. ¿Qué crees relevante mostrar del Dataset \" movies.dat \" del ejercicio anterior?\n",
    "\n",
    "Realiza una o dos representaciones gráficas y justifica tu elección."
   ]
  },
  {
   "cell_type": "code",
   "execution_count": 29,
   "id": "ab0b6a45",
   "metadata": {},
   "outputs": [],
   "source": [
    "muestra = (df[df['Año'] == 2000])"
   ]
  },
  {
   "cell_type": "code",
   "execution_count": 30,
   "id": "f34ae099",
   "metadata": {},
   "outputs": [
    {
     "data": {
      "image/png": "[encoded data removed]",
      "text/plain": [
       "<Figure size 1200x600 with 1 Axes>"
      ]
     },
     "metadata": {},
     "output_type": "display_data"
    }
   ],
   "source": [
    "plt.figure(figsize=(12, 6))\n",
    "sns.countplot(x='Genero', data=muestra, palette='Paired')\n",
    "plt.xlabel('Genero')\n",
    "plt.ylabel('Peliculas')\n",
    "plt.title('Peliculas lanzadas en el año 2000')\n",
    "plt.xticks(rotation=45, ha='right', rotation_mode='anchor')\n",
    "plt.show()"
   ]
  },
  {
   "cell_type": "markdown",
   "id": "a2df4ef5",
   "metadata": {},
   "source": [
    "Esta primera gráfica muestra los generos de las peliculas únicamente del año 2000. Útil si quieres checar las tendencias más recientes. \n",
    "\n",
    "Lo más notorio es la enorme columna de comedia que tenemos, seguido por drama con poco más de la mitad de comedia y acción con alrededor de 20. Las peliculas de romance, ciencia ficción y para niños apenas fueron tocadas. Las demas giran alrededor de las 5 peliculas."
   ]
  },
  {
   "cell_type": "code",
   "execution_count": 31,
   "id": "f802bac3",
   "metadata": {},
   "outputs": [
    {
     "data": {
      "text/plain": [
       "Text(0.5, 0, 'Año')"
      ]
     },
     "execution_count": 31,
     "metadata": {},
     "output_type": "execute_result"
    },
    {
     "data": {
      "image/png": "[encoded data removed]",
      "text/plain": [
       "<Figure size 640x480 with 1 Axes>"
      ]
     },
     "metadata": {},
     "output_type": "display_data"
    }
   ],
   "source": [
    "df.hist(['Año'], bins=15)\n",
    "plt.title('Creación de peliculas por año')\n",
    "plt.ylabel('Peliculas')\n",
    "plt.xlabel('Año')"
   ]
  },
  {
   "cell_type": "markdown",
   "id": "05c7bd35",
   "metadata": {},
   "source": [
    "El histograma presentado muestra las peliculas creadas durante los años de 1920 a 2000.\n",
    "\n",
    "Vemos como periodicamente fueron siendo creadas cada vez más peliculas, en 1960 hubo un pico aunque volvio a bajar, y finalmente entre los años 1980 a 2000 se dispararon la creación de peliculas."
   ]
  },
  {
   "cell_type": "code",
   "execution_count": 33,
   "id": "c501105b",
   "metadata": {},
   "outputs": [
    {
     "data": {
      "image/png": "[encoded data removed]",
      "text/plain": [
       "<Figure size 640x480 with 1 Axes>"
      ]
     },
     "metadata": {},
     "output_type": "display_data"
    }
   ],
   "source": [
    "x = df.Año\n",
    "y = df.Genero\n",
    "colors = 'Blue'\n",
    "area = np.pi*5\n",
    "\n",
    "plt.scatter(x, y, s=area, c=colors, alpha=0.4, edgecolors='black')\n",
    "\n",
    "plt.title('Genero vs Año')\n",
    "plt.ylabel('Genero')\n",
    "plt.xlabel('Año')\n",
    "plt.show()"
   ]
  },
  {
   "cell_type": "markdown",
   "id": "d32a5efa",
   "metadata": {},
   "source": [
    "Aquí vemos una comparación de generos con los años de lanzamiento. Cabe resaltar que se utilizo alpha=0.4 para poder ver que donde hay puntos más oscuros es que hay más de una pelicula con esa caracteristica mientras que los puntos más claros significa que solo hubo una.\n",
    "\n",
    "Lo primero que note es que tal y como mostro el histograma, en los últimos años hay mayor cantidad de peliculas, pero despues de eso hay muchas otras conclusiones que podemos sacar.\n",
    "\n",
    "La comedia y el drama son generos que siempre fueron populares y nunca bajaron, los generos de acción, animación, entre otras tuvieron una mayor popularidad durante los últimos años aunque podria tambien deberse a la mayor producción de peliculas en general, y otras como Musical o Film-Noir tuvieron una epoca de oro pero perdieron relevancia con el tiempo."
   ]
  },
  {
   "cell_type": "markdown",
   "id": "f2fadba4",
   "metadata": {},
   "source": [
    "## Acomodar codigo, ser más especifico en las explicaciones y usar ReGex "
   ]
  }
 ],
 "metadata": {
  "kernelspec": {
   "display_name": "Python 3 (ipykernel)",
   "language": "python",
   "name": "python3"
  },
  "language_info": {
   "codemirror_mode": {
    "name": "ipython",
    "version": 3
   },
   "file_extension": ".py",
   "mimetype": "text/x-python",
   "name": "python",
   "nbconvert_exporter": "python",
   "pygments_lexer": "ipython3",
   "version": "3.11.3"
  }
 },
 "nbformat": 4,
 "nbformat_minor": 5
}
